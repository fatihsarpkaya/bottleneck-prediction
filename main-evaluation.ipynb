{
 "cells": [
  {
   "cell_type": "markdown",
   "id": "e699cd97-25db-45e4-bb01-6f00fa520ff2",
   "metadata": {},
   "source": [
    "### Configure environment"
   ]
  },
  {
   "cell_type": "code",
   "execution_count": null,
   "id": "3029de8f-7fce-45d0-8d4e-53433f8661e0",
   "metadata": {},
   "outputs": [],
   "source": [
    "from fabrictestbed_extensions.fablib.fablib import FablibManager as fablib_manager\n",
    "fablib = fablib_manager() \n",
    "conf = fablib.show_config()"
   ]
  },
  {
   "cell_type": "markdown",
   "id": "d46cb8a3-d55e-4a9a-add2-0c3907f101ac",
   "metadata": {},
   "source": [
    "### Define configuration for this experiment"
   ]
  },
  {
   "cell_type": "code",
   "execution_count": null,
   "id": "ac8fa5ac-e3e4-47f5-987e-bb42ed21d3c3",
   "metadata": {},
   "outputs": [],
   "source": [
    "slice_name=\"ML-for-AQM-Prediction-v2\" + fablib.get_bastion_username()\n",
    "\n",
    "node_conf = [\n",
    " {'name': \"tx_main\",    'cores': 4, 'ram': 32, 'disk': 20, 'image': 'default_ubuntu_22', 'packages': ['iperf3', 'net-tools', 'moreutils','python3']}, \n",
    " {'name': \"tx_2\",    'cores': 4, 'ram': 32, 'disk': 20, 'image': 'default_ubuntu_22', 'packages': ['iperf3', 'net-tools', 'moreutils','python3']}, \n",
    " {'name': \"tx_3\",    'cores': 4, 'ram': 32, 'disk': 20, 'image': 'default_ubuntu_22', 'packages': ['iperf3', 'net-tools', 'moreutils','python3']}, \n",
    "\n",
    " {'name': \"router-bottleneck\", 'cores': 4, 'ram': 32, 'disk': 20, 'image': 'default_ubuntu_22', 'packages': ['iperf3', 'net-tools', 'moreutils','python3']}, \n",
    " {'name': \"router-1\", 'cores': 4, 'ram': 32, 'disk': 20, 'image': 'default_ubuntu_22', 'packages': ['iperf3', 'net-tools', 'moreutils','python3']}, \n",
    " {'name': \"router-3\", 'cores': 4, 'ram': 32, 'disk': 20, 'image': 'default_ubuntu_22', 'packages': ['iperf3', 'net-tools', 'moreutils','python3']}, \n",
    " {'name': \"delay\", 'cores': 4, 'ram': 32, 'disk': 20, 'image': 'default_ubuntu_22', 'packages': ['iperf3', 'net-tools', 'moreutils','python3']}, \n",
    "    \n",
    " {'name': \"rx_main\",    'cores': 4, 'ram': 32, 'disk': 20, 'image': 'default_ubuntu_22', 'packages': ['iperf3', 'net-tools', 'moreutils','python3']}, \n",
    " {'name': \"rx_2\",    'cores': 4, 'ram': 32, 'disk': 20, 'image': 'default_ubuntu_22', 'packages': ['iperf3', 'net-tools', 'moreutils','python3']},\n",
    " {'name': \"rx_3\",    'cores': 4, 'ram': 32, 'disk': 20, 'image': 'default_ubuntu_22', 'packages': ['iperf3', 'net-tools', 'moreutils','python3']}\n",
    "\n",
    "]\n",
    "net_conf = [\n",
    " {\"name\": \"net-tx\", \"subnet\": \"10.0.0.0/24\", \"nodes\": [{\"name\": \"tx_main\",   \"addr\": \"10.0.0.100\"}, {\"name\": \"tx_2\",   \"addr\": \"10.0.0.101\"}, {\"name\": \"tx_3\",   \"addr\": \"10.0.0.102\"}, {\"name\": \"delay\", \"addr\": \"10.0.0.2\"}]},\n",
    " {\"name\": \"net-delay-router\", \"subnet\": \"10.0.2.0/24\", \"nodes\": [{\"name\": \"delay\",   \"addr\": \"10.0.2.2\"}, {\"name\": \"router-1\", \"addr\": \"10.0.2.1\"}]},\n",
    "\n",
    " {\"name\": \"net-router1-bottleneck\", \"subnet\": \"10.0.3.0/24\", \"nodes\": [{\"name\": \"router-1\",   \"addr\": \"10.0.3.2\"}, {\"name\": \"router-bottleneck\", \"addr\": \"10.0.3.1\"}]},\n",
    "\n",
    " {\"name\": \"net-bottleneck-router3\", \"subnet\": \"10.0.4.0/24\", \"nodes\": [{\"name\": \"router-bottleneck\",   \"addr\": \"10.0.4.2\"}, {\"name\": \"router-3\", \"addr\": \"10.0.4.1\"}]},\n",
    "\n",
    " {\"name\": \"net-rx\", \"subnet\": \"10.0.5.0/24\", \"nodes\": [{\"name\": \"router-3\",   \"addr\": \"10.0.5.1\"}, {\"name\": \"rx_main\", \"addr\": \"10.0.5.100\"}, {\"name\": \"rx_2\", \"addr\": \"10.0.5.101\"}, {\"name\": \"rx_3\", \"addr\": \"10.0.5.102\"}]}\n",
    "\n",
    "]\n",
    "route_conf = [\n",
    " {\"addr\": \"10.0.5.0/24\", \"gw\": \"10.0.0.2\", \"nodes\": [\"tx_main\", \"tx_2\", \"tx_3\"]}, \n",
    " {\"addr\": \"10.0.5.0/24\", \"gw\": \"10.0.2.1\", \"nodes\": [\"delay\"]},\n",
    " {\"addr\": \"10.0.5.0/24\", \"gw\": \"10.0.3.1\", \"nodes\": [\"router-1\"]},\n",
    " {\"addr\": \"10.0.5.0/24\", \"gw\": \"10.0.4.1\", \"nodes\": [\"router-bottleneck\"]},\n",
    " \n",
    "\n",
    " {\"addr\": \"10.0.0.0/24\", \"gw\": \"10.0.5.1\", \"nodes\": [\"rx_main\", \"rx_2\", \"rx_3\"]},\n",
    " {\"addr\": \"10.0.0.0/24\", \"gw\": \"10.0.4.2\", \"nodes\": [\"router-3\"]},\n",
    " {\"addr\": \"10.0.0.0/24\", \"gw\": \"10.0.3.2\", \"nodes\": [\"router-bottleneck\"]},\n",
    " {\"addr\": \"10.0.0.0/24\", \"gw\": \"10.0.2.2\", \"nodes\": [\"router-1\"]},\n",
    "\n",
    "]\n",
    "exp_conf = {'cores': sum([ n['cores'] for n in node_conf]), 'nic': sum([len(n['nodes']) for n in net_conf]) }"
   ]
  },
  {
   "cell_type": "markdown",
   "id": "671606b1-5114-4ed2-a45d-2aedb9715d51",
   "metadata": {
    "tags": []
   },
   "source": [
    "### Reserve resources\n",
    "\n",
    "Now, we are ready to reserve resources!"
   ]
  },
  {
   "cell_type": "markdown",
   "id": "5c18d7f0-b22f-4f51-959d-1625d8975731",
   "metadata": {},
   "source": [
    "First, make sure you don’t already have a slice with this name:"
   ]
  },
  {
   "cell_type": "code",
   "execution_count": null,
   "id": "979c6a12-8ef0-41c2-95c1-a0d6992c696f",
   "metadata": {},
   "outputs": [],
   "source": [
    "try:\n",
    "    slice = fablib.get_slice(slice_name)\n",
    "    print(\"You already have a slice by this name!\")\n",
    "    print(\"If you previously reserved resources, skip to the 'log in to resources' section.\")\n",
    "except:\n",
    "    print(\"You don't have a slice named %s yet.\" % slice_name)\n",
    "    print(\"Continue to the next step to make one.\")\n",
    "    slice = fablib.new_slice(name=slice_name)"
   ]
  },
  {
   "cell_type": "markdown",
   "id": "040ba302-135e-4801-b1e0-9494ce668fce",
   "metadata": {},
   "source": [
    "We will select a random site that has sufficient resources for our experiment:"
   ]
  },
  {
   "cell_type": "code",
   "execution_count": null,
   "id": "a973c997-62d8-452d-9022-864b8dc822c7",
   "metadata": {},
   "outputs": [],
   "source": [
    "while True:\n",
    "    site_name = fablib.get_random_site()\n",
    "    if ( (fablib.resources.get_core_available(site_name) > 1.2*exp_conf['cores']) and\n",
    "        (fablib.resources.get_component_available(site_name, 'SharedNIC-ConnectX-6') > 1.2**exp_conf['nic']) ):\n",
    "        break\n",
    "\n",
    "fablib.show_site(site_name)"
   ]
  },
  {
   "cell_type": "markdown",
   "id": "cc6010c4-245b-4589-b827-5a0ac31b728a",
   "metadata": {},
   "source": [
    "Then we will add hosts and network segments:"
   ]
  },
  {
   "cell_type": "code",
   "execution_count": null,
   "id": "9b9ef98c-0a2d-4ed6-b7f3-0adbf4ae1d83",
   "metadata": {},
   "outputs": [],
   "source": [
    "# this cell sets up the nodes\n",
    "for n in node_conf:\n",
    "    slice.add_node(name=n['name'], site=site_name, \n",
    "                   cores=n['cores'], \n",
    "                   ram=n['ram'], \n",
    "                   disk=n['disk'], \n",
    "                   image=n['image'])"
   ]
  },
  {
   "cell_type": "code",
   "execution_count": null,
   "id": "32b2f24e-06dd-4f45-8a0f-3ca287821f5f",
   "metadata": {},
   "outputs": [],
   "source": [
    "# this cell sets up the network segments\n",
    "for n in net_conf:\n",
    "    ifaces = [slice.get_node(node[\"name\"]).add_component(model=\"NIC_Basic\", \n",
    "                                                 name=n[\"name\"]).get_interfaces()[0] for node in n['nodes'] ]\n",
    "    slice.add_l2network(name=n[\"name\"], type='L2Bridge', interfaces=ifaces)"
   ]
  },
  {
   "cell_type": "markdown",
   "id": "fd98e9c9-fcd8-45bd-bafe-9cfadfd369a6",
   "metadata": {},
   "source": [
    "The following cell submits our request to the FABRIC site. The output of this cell will update automatically as the status of our request changes.\n",
    "\n",
    "-   While it is being prepared, the “State” of the slice will appear as “Configuring”.\n",
    "-   When it is ready, the “State” of the slice will change to “StableOK”.\n",
    "\n",
    "You may prefer to walk away and come back in a few minutes (for simple slices) or a few tens of minutes (for more complicated slices with many resources)."
   ]
  },
  {
   "cell_type": "code",
   "execution_count": null,
   "id": "aad95a3c-fd11-475c-94b1-cf1587666663",
   "metadata": {},
   "outputs": [],
   "source": [
    "slice.submit()"
   ]
  },
  {
   "cell_type": "code",
   "execution_count": null,
   "id": "b415d743-5ee5-4029-ab5e-1391d645c4dc",
   "metadata": {},
   "outputs": [],
   "source": [
    "slice.get_state()\n",
    "slice.wait_ssh(progress=True)"
   ]
  },
  {
   "cell_type": "markdown",
   "id": "d34b617c-2e5c-40c3-98fc-73be3183b5f4",
   "metadata": {},
   "source": [
    "### Extend your slice\n",
    "\n",
    "If you don’t plan to finish an experiment in one day, you can extend your slice. The following cell extends your reservation for 7 days."
   ]
  },
  {
   "cell_type": "code",
   "execution_count": null,
   "id": "a7f4b068-005a-4fbf-ad31-89dccc85dc30",
   "metadata": {},
   "outputs": [],
   "source": [
    "from datetime import datetime\n",
    "from datetime import timezone\n",
    "from datetime import timedelta\n",
    "\n",
    "# Set end date to 7 days from now\n",
    "end_date = (datetime.now(timezone.utc) + timedelta(days=7)).strftime(\"%Y-%m-%d %H:%M:%S %z\")\n",
    "slice.renew(end_date)"
   ]
  },
  {
   "cell_type": "code",
   "execution_count": null,
   "id": "00a788bf-9f21-4905-8722-7a5823f5dc85",
   "metadata": {},
   "outputs": [],
   "source": [
    "for node in slice.get_nodes():\n",
    "    # check kernel version\n",
    "    node.execute(\"hostname; uname -a\")"
   ]
  },
  {
   "cell_type": "code",
   "execution_count": null,
   "id": "bb08f18e-583a-48f4-8b8d-9a82fe841bb3",
   "metadata": {},
   "outputs": [],
   "source": [
    "slice.get_node(name=\"router\").execute(\"ip -V\")"
   ]
  },
  {
   "cell_type": "markdown",
   "id": "f24abb79-8cf0-4175-a405-56265ccf0538",
   "metadata": {},
   "source": [
    "### Configure resources\n",
    "\n",
    "Next, we will configure the resources so they are ready to use."
   ]
  },
  {
   "cell_type": "code",
   "execution_count": null,
   "id": "ddebb2cd-42fb-48d5-962b-11f30e68f184",
   "metadata": {},
   "outputs": [],
   "source": [
    "slice = fablib.get_slice(name=slice_name)"
   ]
  },
  {
   "cell_type": "code",
   "execution_count": null,
   "id": "7d7f6d80-3d38-4943-9c1a-60d92c3d0d19",
   "metadata": {},
   "outputs": [],
   "source": [
    "# install packages\n",
    "# this will take a while and will run in background while you do other steps\n",
    "for n in node_conf:\n",
    "    if len(n['packages']):\n",
    "        node = slice.get_node(n['name'])\n",
    "        pkg = \" \".join(n['packages'])\n",
    "        node.execute_thread(\"sudo apt update; sudo apt -y install %s\" % pkg)"
   ]
  },
  {
   "cell_type": "code",
   "execution_count": null,
   "id": "5e96e4be-1a50-4a6f-b579-9fcb1ffd843d",
   "metadata": {},
   "outputs": [],
   "source": [
    "# bring interfaces up and either assign an address (if there is one) or flush address\n",
    "from ipaddress import ip_address, IPv4Address, IPv4Network\n",
    "\n",
    "for net in net_conf:\n",
    "    for n in net['nodes']:\n",
    "        if_name = n['name'] + '-' + net['name'] + '-p1'\n",
    "        iface = slice.get_interface(if_name)\n",
    "        iface.ip_link_up()\n",
    "        if n['addr']:\n",
    "            iface.ip_addr_add(addr=n['addr'], subnet=IPv4Network(net['subnet']))\n",
    "        else:\n",
    "            iface.get_node().execute(\"sudo ip addr flush dev %s\"  % iface.get_device_name())"
   ]
  },
  {
   "cell_type": "code",
   "execution_count": null,
   "id": "a4bcf2bf-b8ec-4be8-8be8-09cdc19259d5",
   "metadata": {},
   "outputs": [],
   "source": [
    "# prepare a \"hosts\" file that has names and addresses of every node\n",
    "hosts_txt = [ \"%s\\t%s\" % ( n['addr'], n['name'] ) for net in net_conf  for n in net['nodes'] if type(n) is dict and n['addr']]\n",
    "for n in slice.get_nodes():\n",
    "    for h in hosts_txt:\n",
    "        n.execute(\"echo %s | sudo tee -a /etc/hosts\" % h)"
   ]
  },
  {
   "cell_type": "code",
   "execution_count": null,
   "id": "04674abd-afec-4f16-9513-9ae81b4cfca0",
   "metadata": {},
   "outputs": [],
   "source": [
    "# enable IPv4 forwarding on all nodes\n",
    "for n in slice.get_nodes():\n",
    "    n.execute(\"sudo sysctl -w net.ipv4.ip_forward=1\")"
   ]
  },
  {
   "cell_type": "code",
   "execution_count": null,
   "id": "ecd32e9b-0ad6-48ec-b7a3-95380bd73862",
   "metadata": {},
   "outputs": [],
   "source": [
    "# set up static routes\n",
    "for rt in route_conf:\n",
    "    for n in rt['nodes']:\n",
    "        slice.get_node(name=n).ip_route_add(subnet=IPv4Network(rt['addr']), gateway=rt['gw'])"
   ]
  },
  {
   "cell_type": "code",
   "execution_count": null,
   "id": "2507e702-bc51-40af-a4b3-a6a015db40ca",
   "metadata": {},
   "outputs": [],
   "source": [
    "# turn off segmentation offload on interfaces\n",
    "for iface in slice.get_interfaces():\n",
    "    iface_name = iface.get_device_name()\n",
    "    n = iface.get_node()\n",
    "    offloads = [\"gro\", \"lro\", \"gso\", \"tso\"]\n",
    "    for offload in offloads:\n",
    "        n.execute(\"sudo ethtool -K %s %s off\" % (iface_name, offload))"
   ]
  },
  {
   "cell_type": "markdown",
   "id": "03518528-84bc-4eed-a9b0-33ef803ce901",
   "metadata": {},
   "source": [
    "### Draw the network topology"
   ]
  },
  {
   "cell_type": "markdown",
   "id": "486469db-835d-4fdb-9923-fa6101699c09",
   "metadata": {},
   "source": [
    "The following cell will draw the network topology, for your reference. The interface name and addresses of each experiment interface will be shown on the drawing."
   ]
  },
  {
   "cell_type": "code",
   "execution_count": null,
   "id": "9e3a30b5-fade-4b89-98e1-9d757f0a0f8a",
   "metadata": {},
   "outputs": [],
   "source": [
    "l2_nets = [(n.get_name(), {'color': 'lavender'}) for n in slice.get_l2networks() ]\n",
    "l3_nets = [(n.get_name(), {'color': 'pink'}) for n in slice.get_l3networks() ]\n",
    "hosts   =   [(n.get_name(), {'color': 'lightblue'}) for n in slice.get_nodes()]\n",
    "nodes = l2_nets + l3_nets + hosts\n",
    "ifaces = [iface.toDict() for iface in slice.get_interfaces()]\n",
    "edges = [(iface['network'], iface['node'], \n",
    "          {'label': iface['physical_dev'] + '\\n' + iface['ip_addr'] + '\\n' + iface['mac']}) for iface in ifaces]"
   ]
  },
  {
   "cell_type": "code",
   "execution_count": null,
   "id": "52f1f8a5-cd7c-4784-a694-7c09f73e26dc",
   "metadata": {},
   "outputs": [],
   "source": [
    "import networkx as nx\n",
    "import matplotlib.pyplot as plt\n",
    "plt.figure(figsize=(len(nodes),len(nodes)))\n",
    "G = nx.Graph()\n",
    "G.add_nodes_from(nodes)\n",
    "G.add_edges_from(edges)\n",
    "pos = nx.spring_layout(G)\n",
    "nx.draw(G, pos, node_shape='s',  \n",
    "        node_color=[n[1]['color'] for n in nodes], \n",
    "        node_size=[len(n[0])*400 for n in nodes],  \n",
    "        with_labels=True);\n",
    "nx.draw_networkx_edge_labels(G,pos,\n",
    "                             edge_labels=nx.get_edge_attributes(G,'label'),\n",
    "                             font_color='gray',  font_size=8, rotate=False);"
   ]
  },
  {
   "cell_type": "markdown",
   "id": "43cf46b8-310f-4893-af93-4389ec882afe",
   "metadata": {},
   "source": [
    "### Log into resources"
   ]
  },
  {
   "cell_type": "markdown",
   "id": "bd5c2ac5-ee82-4bc8-b568-a423f4a6197d",
   "metadata": {},
   "source": [
    "Now, we are finally ready to log in to our resources over SSH! Run the following cells, and observe the table output - you will see an SSH command for each of the resources in your topology."
   ]
  },
  {
   "cell_type": "code",
   "execution_count": null,
   "id": "22e3e270-0d37-4f59-bf9a-591450653259",
   "metadata": {},
   "outputs": [],
   "source": [
    "import pandas as pd\n",
    "pd.set_option('display.max_colwidth', None)\n",
    "slice_info = [{'Name': n.get_name(), 'SSH command': n.get_ssh_command()} for n in slice.get_nodes()]\n",
    "pd.DataFrame(slice_info).set_index('Name')"
   ]
  },
  {
   "cell_type": "markdown",
   "id": "fe26bfb9-6ada-45bf-86d4-e36519bd78f3",
   "metadata": {},
   "source": [
    "Now, you can open an SSH session on any of the resources as follows:\n",
    "\n",
    "-   in Jupyter, from the menu bar, use File \\> New \\> Terminal to open a new terminal.\n",
    "-   copy an SSH command from the table, and paste it into the terminal. (Note that each SSH command is a single line, even if the display wraps the text to a second line! When you copy and paste it, paste it all together.)\n",
    "\n",
    "You can repeat this process (open several terminals) to start a session on each resource. Each terminal session will have a tab in the Jupyter environment, so that you can easily switch between them."
   ]
  },
  {
   "cell_type": "markdown",
   "id": "fd8b6b37-b634-4f4d-9776-ad69e6a3617c",
   "metadata": {},
   "source": [
    "### Execute Experiment"
   ]
  },
  {
   "cell_type": "code",
   "execution_count": null,
   "id": "6c19512d-dc7e-4860-a7af-bd280b318a7a",
   "metadata": {},
   "outputs": [],
   "source": [
    "# nodes and instances\n",
    "\n",
    "tx_main_node = slice.get_node(name=\"tx_main\")\n",
    "tx_2_node = slice.get_node(name=\"tx_2\")\n",
    "tx_3_node = slice.get_node(name=\"tx_3\")\n",
    "\n",
    "rx_main_node = slice.get_node(name=\"rx_main\")\n",
    "rx_2_node = slice.get_node(name=\"rx_2\")\n",
    "rx_3_node = slice.get_node(name=\"rx_3\")\n",
    "\n",
    "delay_node = slice.get_node(name=\"delay\")\n",
    "router_node = slice.get_node(name=\"router-bottleneck\")\n",
    "router1_node = slice.get_node(name=\"router-1\")\n",
    "router3_node = slice.get_node(name=\"router-3\")\n",
    "\n",
    "# interfaces\n",
    "tx_main_egress_iface  = tx_main_node.get_interface(network_name = \"net-tx\")\n",
    "tx_2_egress_iface  = tx_2_node.get_interface(network_name = \"net-tx\")\n",
    "tx_3_egress_iface  = tx_3_node.get_interface(network_name = \"net-tx\")\n",
    "\n",
    "\n",
    "delay_ingress_tx_iface  = delay_node.get_interface(network_name = \"net-tx\")\n",
    "delay_egress_iface  = delay_node.get_interface(network_name = \"net-delay-router\")\n",
    "delay_ingress_tx_name = delay_ingress_tx_iface.get_device_name()\n",
    "delay_egress_name = delay_egress_iface.get_device_name()\n",
    "\n",
    "router1_ingress_iface  = router1_node.get_interface(network_name = \"net-delay-router\")\n",
    "router1_egress_iface  = router1_node.get_interface(network_name = \"net-router1-bottleneck\")\n",
    "router1_egress_name  = router1_egress_iface.get_device_name()\n",
    "\n",
    "router_ingress_iface  = router_node.get_interface(network_name = \"net-router1-bottleneck\")\n",
    "router_egress_iface  = router_node.get_interface(network_name = \"net-bottleneck-router3\")\n",
    "router_egress_name  = router_egress_iface.get_device_name()\n",
    "\n",
    "router3_ingress_iface  = router3_node.get_interface(network_name = \"net-bottleneck-router3\")\n",
    "router3_egress_iface  = router3_node.get_interface(network_name = \"net-rx\")\n",
    "router3_egress_name  = router3_egress_iface.get_device_name()\n",
    "\n",
    "rx_main_ingress_iface  = rx_main_node.get_interface(network_name = \"net-rx\")\n",
    "rx_2_ingress_iface  = rx_2_node.get_interface(network_name = \"net-rx\")\n",
    "rx_3_ingress_iface  = rx_3_node.get_interface(network_name = \"net-rx\")"
   ]
  },
  {
   "cell_type": "code",
   "execution_count": null,
   "id": "5e2ba54b-155f-4b3f-8d42-36d0b0361504",
   "metadata": {},
   "outputs": [],
   "source": [
    "# generate full factorial experiment\n",
    "import itertools\n",
    "\n",
    "exp_factors = {\n",
    "    'n_bdp': [1, 3],  # Novel bandwidth-delay product (smaller and larger than training)\n",
    "    'btl_capacity': [40, 150],  # Intermediate and high capacities not seen in training\n",
    "    'base_rtt': [15, 60],  # Include smaller and larger RTTs\n",
    "    'aqm': ['FIFO','pie_drop'],\n",
    "    'target': [5, 15],  # Add different AQM targets for queue delay\n",
    "    'cc_tx_main': [\"cubic\"],  # Keep the same for consistency\n",
    "    'cc_tx_2': [\"cubic\"],  # you can change it to BBR also\n",
    "    'cc_tx_3': [\"reno\"],  \n",
    "    'N_tx_main': [1],  # Vary number of flows for main sender\n",
    "    'N_tx_2': [2, 10, 20],  # Include additional flow counts for more diversity\n",
    "    'N_tx_3': [2, 10, 20],  # Similar flow counts for tx_3\n",
    "    'trial': [1],  # Single trial for simplicity\n",
    "}\n",
    "\n",
    "factor_names = [k for k in exp_factors]\n",
    "factor_lists = list(itertools.product(*exp_factors.values()))\n",
    "\n",
    "exp_lists = []\n",
    "\n",
    "seen_combinations = set()\n",
    "\n",
    "# Removing target from FIFO bottleneck because it does not have target\n",
    "# Removing the cases where target is more than or equal to the buffer size in time, these cases are not meaningful in practice\n",
    "\n",
    "for factor_l in factor_lists:\n",
    "    temp_dict = dict(zip(factor_names, factor_l))\n",
    "    if temp_dict['n_bdp'] * temp_dict['base_rtt'] >= temp_dict['target']:\n",
    "        if temp_dict['aqm'] == 'FIFO':\n",
    "            del temp_dict['target']\n",
    "        # Convert dict to a frozenset for set operations\n",
    "        fs = frozenset(temp_dict.items())\n",
    "    \n",
    "        if fs not in seen_combinations:\n",
    "            seen_combinations.add(fs)\n",
    "            exp_lists.append(temp_dict)\n",
    "\n",
    "data_dir_tx_main = slice_name + 'singlebottleneck'+\"-tx_main\"\n",
    "data_dir_tx_2 = slice_name + 'singlebottleneck'+\"-tx_2\"\n",
    "data_dir_tx_3 = slice_name + 'singlebottleneck'+\"-tx_3\"\n",
    "\n",
    "\n",
    "print(\"Number of experiments:\",len(exp_lists))"
   ]
  },
  {
   "cell_type": "code",
   "execution_count": null,
   "id": "d3adff85-df9b-4f3f-911f-0beea29eab15",
   "metadata": {},
   "outputs": [],
   "source": [
    "#tx_main_node.execute(\"sudo modprobe tcp_\" + exp['cc_tx_main'])\n",
    "tx_main_node.execute(\"sudo sysctl -w net.ipv4.tcp_congestion_control=\" + exp_factors['cc_tx_main'][0])\n",
    "\n",
    "#tx_2_node.execute(\"sudo modprobe tcp_\" + exp['cc_tx_2'])\n",
    "tx_2_node.execute(\"sudo sysctl -w net.ipv4.tcp_congestion_control=\" + exp_factors['cc_tx_2'][0])\n",
    "\n",
    "#tx_3_node.execute(\"sudo modprobe tcp_\" + exp['cc_tx_3'])\n",
    "tx_3_node.execute(\"sudo sysctl -w net.ipv4.tcp_congestion_control=\" + exp_factors['cc_tx_3'][0])\n",
    "\n",
    "\n",
    "rx_main_node.execute(\"sudo sysctl -w net.ipv4.tcp_congestion_control=\" + exp_factors['cc_tx_main'][0])\n",
    "rx_2_node.execute(\"sudo sysctl -w net.ipv4.tcp_congestion_control=\" + exp_factors['cc_tx_2'][0])\n",
    "rx_3_node.execute(\"sudo sysctl -w net.ipv4.tcp_congestion_control=\" + exp_factors['cc_tx_3'][0])"
   ]
  },
  {
   "cell_type": "code",
   "execution_count": null,
   "id": "7c9fab13-28bd-4f57-a5e1-c20c9d364a9d",
   "metadata": {
    "scrolled": true
   },
   "outputs": [],
   "source": [
    "# run experiments\n",
    "import time\n",
    "d = 20 #duration in seconds\n",
    "\n",
    "em = [delay_ingress_tx_name, delay_egress_name]\n",
    "\n",
    "for exp in exp_lists:\n",
    "\n",
    "    # check if we already ran this experiment\n",
    "    # (allow stop/resume)\n",
    "    name_tx_main=\"%s_%s_%s_%0.1f_%d_%d_%s_%s_%d_%d_%d_%d\" % (exp['cc_tx_main'],exp['cc_tx_2'],exp['cc_tx_3'],exp['n_bdp'], exp['btl_capacity'], exp['base_rtt'], exp['aqm'], str(exp.get('target', 'none')), exp['N_tx_main'],exp['N_tx_2'],exp['N_tx_3'],exp['trial'])\n",
    "    name_tx_2=\"%s_%s_%s_%0.1f_%d_%d_%s_%s_%d_%d_%d_%d\" % (\"2-\"+exp['cc_tx_main'],exp['cc_tx_2'],exp['cc_tx_3'],exp['n_bdp'], exp['btl_capacity'], exp['base_rtt'], exp['aqm'], str(exp.get('target', 'none')), exp['N_tx_main'],exp['N_tx_2'],exp['N_tx_3'],exp['trial'])\n",
    "    name_tx_3=\"%s_%s_%s_%0.1f_%d_%d_%s_%s_%d_%d_%d_%d\" % (\"3-\"+exp['cc_tx_main'],exp['cc_tx_2'],exp['cc_tx_3'],exp['n_bdp'], exp['btl_capacity'], exp['base_rtt'], exp['aqm'], str(exp.get('target', 'none')), exp['N_tx_main'],exp['N_tx_2'],exp['N_tx_3'],exp['trial'])\n",
    "\n",
    "\n",
    "    #name_tx_legacy=\"%s_%0.1f_%d_%d_%s_%s_%d_%d_%d_%d\" % (exp['cc_tx_legacy'],exp['n_bdp'], exp['btl_capacity'], exp['base_rtt'], exp['aqm'], str(exp.get('ecn_threshold', 'none')), exp['ecn_fallback'], exp['rx_L4S_ecn'], exp['rx_legacy_ecn'], exp['trial'])\n",
    "    \n",
    "    \n",
    "    \n",
    "    file_out_tx_main_json = name_tx_main+\"-result.json\"\n",
    "    stdout_tx_main_json, stderr_tx_main_json = tx_main_node.execute(\"ls \" + file_out_tx_main_json, quiet=True) \n",
    "    \n",
    "    \n",
    "\n",
    "    if len(stdout_tx_main_json):\n",
    "        print(\"Already have \" + name_tx_main + \", skipping\")\n",
    "\n",
    "    elif len(stderr_tx_main_json):\n",
    "        print(\"Running experiment to generate \" + name_tx_main) \n",
    "\n",
    "        \n",
    "        # delay at emulator\n",
    "        for e in em:\n",
    "            cmds = \"sudo tc qdisc replace dev {iface} root netem delay {owd}ms limit 60000\".format(iface=e, owd=exp['base_rtt']/2)\n",
    "            delay_node.execute(cmds)\n",
    "        \n",
    "        # fixed values\n",
    "        btl_limit    = int(1000*exp['n_bdp']*exp['btl_capacity']*exp['base_rtt']/8) # limit of the bottleneck, n_bdp x BDP in bytes \n",
    "        packet_number=int(btl_limit/1500)+1\n",
    "        \n",
    "\n",
    "        #aqm type selection\n",
    "        cmds_prefix = '''\n",
    "            sudo tc qdisc del dev {iface} root\n",
    "            sudo tc qdisc replace dev {iface} root handle 1: htb default 3 \n",
    "            sudo tc class add dev {iface} parent 1: classid 1:3 htb rate {capacity}mbit \n",
    "            '''.format(iface=router_egress_name, capacity=exp['btl_capacity'], buffer=btl_limit)\n",
    "        \n",
    "        cmds_specific_initial = \"sudo tc qdisc replace dev {iface} parent 1:3 handle 3: \".format(iface=router_egress_name)\n",
    "\n",
    "        cmds_specific = {\n",
    "        'FIFO': \"bfifo limit {buffer}\".format(buffer=btl_limit),\n",
    "        'single_queue_FQ': \"fq limit {packet_limit} flow_limit {packet_limit} orphan_mask 0 ce_threshold {threshold}ms\".format(packet_limit=packet_number, threshold=exp.get('ecn_threshold', 0)),\n",
    "        'Codel': \"codel limit {packet_limit} target {target}ms interval 100ms ecn\".format(packet_limit=packet_number, target=exp.get('ecn_threshold', 0)),\n",
    "        'Codel_drop': \"codel limit {packet_limit} target {target}ms interval 100ms noecn\".format(packet_limit=packet_number, target=exp.get('ecn_threshold', 0)),\n",
    "        'FQ': \"fq limit {packet_limit} flow_limit {packet_limit} ce_threshold {threshold}ms\".format(packet_limit=packet_number, threshold=exp.get('ecn_threshold', 0)),\n",
    "        'FQ_Codel': \"fq_codel limit {packet_limit} target {target}ms interval 100ms ecn\".format(packet_limit=packet_number, target=exp.get('ecn_threshold', 0)),\n",
    "        'FQ_Codel_L4S': \"fq_codel limit {packet_limit} target {target}ms interval 100ms ecn ce_threshold 1ms ce_threshold_selector 0x01/0x01\".format(packet_limit=packet_number, target=exp.get('ecn_threshold', 0)),\n",
    "        'pie_drop': \"pie limit {packet_limit} target {target}ms noecn\".format(packet_limit=packet_number, target=exp.get('target', 0)),\n",
    "        'DualPI2': \"dualpi2 target {threshold}ms\".format(threshold=exp.get('ecn_threshold', 0))\n",
    "        }\n",
    "\n",
    "        cmds_aqm = {key: cmds_specific_initial + cmd for key, cmd in cmds_specific.items()}\n",
    "        \n",
    "        router_node.execute(cmds_prefix)\n",
    "        router_node.execute(cmds_aqm[ exp['aqm'] ])\n",
    "            \n",
    "        rx_main_node.execute(\"killall iperf3\")\n",
    "        rx_2_node.execute(\"killall iperf3\")\n",
    "        rx_3_node.execute(\"killall iperf3\")\n",
    "\n",
    "        ss_tx_main_script=\"rm -f {flow}-ss.txt; start_time=$(date +%s); while true; do ss --no-header -eipn dst 10.0.5.100 | ts '%.s' | tee -a {flow}-ss.txt; current_time=$(date +%s); elapsed_time=$((current_time - start_time));  if [ $elapsed_time -ge {duration} ]; then break; fi; sleep 0.1; done;\"\n",
    "        \n",
    "\n",
    "        #print(\"Starting experiment with {1} bdp {2} capacity {3} rtt {4} {5} thrshold {6} ecn_fallback {7} rx_L4S {8} rx_legacy for {duration} seconds\".format(duration=d, 1=exp['n_bdp'], 2=exp['btl_capacity'], 3=exp['base_rtt'], 4=exp['aqm'], 5=exp['ecn_threshold'], 6= exp['ecn_fallback'], 7=exp['rx_L4S_ecn'], 8=exp['rx_legacy_ecn']))\n",
    "        \n",
    "        rx_main_node.execute(\"iperf3 -s -1 -p 4000 -D\")\n",
    "        rx_2_node.execute(\"iperf3 -s -1 -p 5000 -D\")\n",
    "        rx_3_node.execute(\"iperf3 -s -1 -p 6000 -D\")\n",
    "\n",
    "        tx_main_node.execute_thread(\"sleep 1; iperf3 -c 10.0.5.100 -t {duration} -P {flows} -C {cc} -p 4000 -J > {flow}-result.json\".format(flow =name_tx_main, duration=d, flows=exp['N_tx_main'], cc=exp['cc_tx_main']))\n",
    "        tx_main_node.execute_thread(ss_tx_main_script.format(flow=name_tx_main, duration=d))\n",
    "\n",
    "        tx_3_node.execute_thread(\"sleep 1; iperf3 -c 10.0.5.102 -t {duration} -P {flows} -C {cc} -p 6000 -J > {flow}-result.json\".format(flow =name_tx_3, duration=d, flows=exp['N_tx_3'], cc=exp['cc_tx_3']))\n",
    "        stdout, stderr = tx_2_node.execute(\"sleep 1; iperf3 -c 10.0.5.101 -t {duration} -P {flows} -C {cc} -p 5000 -J > {flow}-result.json\".format(flow =name_tx_2, duration=d, flows=exp['N_tx_2'], cc=exp['cc_tx_2']))\n",
    "        time.sleep(3)  # time.sleep(1)\n",
    "        \n",
    "print(\"finished\")"
   ]
  },
  {
   "cell_type": "markdown",
   "id": "33adbc37-7171-4c8b-9793-86319f87c892",
   "metadata": {},
   "source": [
    "### Analysis of the results"
   ]
  },
  {
   "cell_type": "code",
   "execution_count": null,
   "id": "0f1a5dc7-3d75-414a-a06f-9c9575d0161e",
   "metadata": {},
   "outputs": [],
   "source": [
    "def generate_script(name): \n",
    "    return \"\"\"\n",
    "        rm -f {name}-ss.csv\n",
    "        cat {name}-ss.txt | sed -e \":a; /<->$/ {{ N; s/<->\\\\n//; ba; }}\"  | grep \"iperf3\" | grep -v \"SYN-SENT\" > {name}-ss-processed.txt \n",
    "        cat {name}-ss-processed.txt | awk '{{print $1}}' > ts-{name}.txt \n",
    "        cat {name}-ss-processed.txt | grep -oP 'cwnd:\\\\d+' | awk -F ':' '{{print $2}}' > cwnd-{name}.txt \n",
    "        cat {name}-ss-processed.txt | grep -oP '\\\\brtt:.*?(\\\\s|$)' | awk -F '[:,]' '{{print $2}}' | tr -d ' '  | cut -d '/' -f 1 > srtt-{name}.txt \n",
    "        cat {name}-ss-processed.txt | grep -oP 'fd=.*?(\\\\s|$)' | awk -F '[=,]' '{{print $2}}' | tr -d ')' | tr -d ' '   > fd-{name}.txt\n",
    "        paste ts-{name}.txt fd-{name}.txt cwnd-{name}.txt srtt-{name}.txt -d ',' > {name}-ss.csv\n",
    "    \"\"\".format(name=name)"
   ]
  },
  {
   "cell_type": "code",
   "execution_count": null,
   "id": "99759ce8-f101-48dd-bb14-5b4b4ec963ea",
   "metadata": {
    "scrolled": true
   },
   "outputs": [],
   "source": [
    "for exp in exp_lists:\n",
    "    \n",
    "    name_tx_main=\"%s_%s_%s_%0.1f_%d_%d_%s_%s_%d_%d_%d_%d\" % (exp['cc_tx_main'],exp['cc_tx_2'],exp['cc_tx_3'],exp['n_bdp'], exp['btl_capacity'], exp['base_rtt'], exp['aqm'], str(exp.get('target', 'none')), exp['N_tx_main'],exp['N_tx_2'],exp['N_tx_3'],exp['trial'])\n",
    "\n",
    "    file_out_tx_main_csv = name_tx_main+\"-ss.csv\"\n",
    "    stdout_tx_main_csv, stderr_tx_main_csv = tx_main_node.execute(\"ls \" + file_out_tx_main_csv, quiet=True) \n",
    "\n",
    "    if len(stdout_tx_main_csv):\n",
    "        print(\"Already have \" + name_tx_main + \", skipping\")\n",
    "\n",
    "    elif len(stderr_tx_main_csv):\n",
    "        print(\"Running experiment to generate \" + name_tx_main) \n",
    "\n",
    "    \n",
    "        script_tx_main = generate_script(name_tx_main)\n",
    "        tx_main_node.execute(script_tx_main)"
   ]
  },
  {
   "cell_type": "code",
   "execution_count": null,
   "id": "3f1863ec-7ffa-496b-9a0e-2f9dea45f685",
   "metadata": {},
   "outputs": [],
   "source": [
    "tx_main_node.execute('mkdir '+data_dir_tx_main)\n",
    "tx_main_node.execute('mv *.json '+ data_dir_tx_main)\n",
    "tx_main_node.execute('mv *.csv '+ data_dir_tx_main)\n",
    "tx_main_node.execute('mv *.txt '+ data_dir_tx_main)"
   ]
  },
  {
   "cell_type": "code",
   "execution_count": null,
   "id": "dde7811a-b63c-47e5-bbf7-c4402ed5ed24",
   "metadata": {},
   "outputs": [],
   "source": [
    "tx_main_node.upload_file(\"/home/fabric/work/ML for AQM detection/analysis_with_ss.py\", f\"/home/ubuntu/{data_dir_tx_main}/analysis_with_ss.py\")"
   ]
  },
  {
   "cell_type": "code",
   "execution_count": null,
   "id": "1485b9da-1d94-4f00-8334-65ba1d30db31",
   "metadata": {
    "scrolled": true
   },
   "outputs": [],
   "source": [
    "cmds_py_install = '''\n",
    "            sudo apt -y install python3-pip\n",
    "            pip install numpy\n",
    "            pip install matplotlib\n",
    "            pip install pandas\n",
    "            '''\n",
    "\n",
    "tx_main_node.execute(cmds_py_install)"
   ]
  },
  {
   "cell_type": "code",
   "execution_count": null,
   "id": "01371c1c-607c-4586-b70e-dffeb901ba41",
   "metadata": {
    "scrolled": true
   },
   "outputs": [],
   "source": [
    "tx_main_node.execute(f\"chmod +x /home/ubuntu/{data_dir_tx_main}/analysis_with_ss.py\")\n",
    "tx_main_node.execute(f\"python3 /home/ubuntu/{data_dir_tx_main}/analysis_with_ss.py\")"
   ]
  },
  {
   "cell_type": "code",
   "execution_count": null,
   "id": "dc51e573-c237-43e7-8bbe-934d1c8adbc0",
   "metadata": {},
   "outputs": [],
   "source": [
    "tx_main_node.download_file(\"/home/fabric/work/ML for AQM detection/tput_tx_test.json\",f\"/home/ubuntu/{data_dir_tx_main}/throughput_data.json\")\n",
    "tx_main_node.download_file(\"/home/fabric/work/ML for AQM detection/srtt_tx_test.json\",f\"/home/ubuntu/{data_dir_tx_main}/srtt_data.json\")"
   ]
  },
  {
   "cell_type": "code",
   "execution_count": null,
   "id": "40233bae-55c1-455f-ab58-07d833db1e54",
   "metadata": {},
   "outputs": [],
   "source": [
    "tx_main_node.download_file(\"/home/fabric/work/ML for AQM detection/cwnd_test.csv\",f\"/home/ubuntu/{data_dir_tx_main}/consolidated_cwnd_data.csv\")\n",
    "tx_main_node.download_file(\"/home/fabric/work/ML for AQM detection/time_test.csv\",f\"/home/ubuntu/{data_dir_tx_main}/consolidated_time_data.csv\")\n",
    "tx_main_node.download_file(\"/home/fabric/work/ML for AQM detection/srtt_test.csv\",f\"/home/ubuntu/{data_dir_tx_main}/srtt_all.csv\")"
   ]
  },
  {
   "cell_type": "code",
   "execution_count": null,
   "id": "93edaf99-47fd-4dde-b284-7174a74bd85a",
   "metadata": {},
   "outputs": [],
   "source": [
    "import json\n",
    "import os\n",
    "\n",
    "# Initialize empty variables\n",
    "throughput_data = {}\n",
    "srtt_data = {}\n",
    "\n",
    "# Directory containing JSON files\n",
    "#data_directory = '/home/fabric/work/'\n",
    "\n",
    "data_directory = '/home/fabric/work/ML for AQM detection/'\n",
    "# List of JSON files in the directory\n",
    "json_files = [f for f in os.listdir(data_directory) if f.endswith('.json')]\n",
    "\n",
    "# Load data from each JSON file and update the variables\n",
    "for file_name in json_files:\n",
    "    file_path = os.path.join(data_directory, file_name)\n",
    "    with open(file_path, 'r') as f:\n",
    "        data = json.load(f)\n",
    "\n",
    "    # Check if the file contains throughput data or srtt data based on its name\n",
    "    if 'tput' in file_name:\n",
    "        throughput_data.update(data)\n",
    "    elif 'srtt' in file_name:\n",
    "        srtt_data.update(data)"
   ]
  },
  {
   "cell_type": "code",
   "execution_count": null,
   "id": "c9017179-45b6-40a7-970e-5f792c8843c2",
   "metadata": {
    "scrolled": true
   },
   "outputs": [],
   "source": [
    "srtt_data"
   ]
  }
 ],
 "metadata": {
  "kernelspec": {
   "display_name": "Python 3 (ipykernel)",
   "language": "python",
   "name": "python3"
  },
  "language_info": {
   "codemirror_mode": {
    "name": "ipython",
    "version": 3
   },
   "file_extension": ".py",
   "mimetype": "text/x-python",
   "name": "python",
   "nbconvert_exporter": "python",
   "pygments_lexer": "ipython3",
   "version": "3.11.8"
  }
 },
 "nbformat": 4,
 "nbformat_minor": 5
}
